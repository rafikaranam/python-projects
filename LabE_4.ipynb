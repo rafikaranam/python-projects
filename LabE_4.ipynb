{
 "cells": [
  {
   "cell_type": "code",
   "execution_count": null,
   "metadata": {
    "id": "-GcPQvVpn2Oe"
   },
   "outputs": [],
   "source": [
    "# 1. Importing the necessary libraries\n",
    "\n",
    "import re"
   ]
  },
  {
   "cell_type": "code",
   "execution_count": null,
   "metadata": {
    "id": "lyVcfDPZocZ6"
   },
   "outputs": [],
   "source": [
    "#uploaded the labE4.txt text file in google colab files (table of content, tap on hamburger menu ->Tap on folder icon to see text files).\n",
    "#if the text file is not displayed, download LabE4.txt and remove comment to the below to line and upload text file\n",
    "#from google.colab import files\n",
    "#upload = files.upload()\n"
   ]
  },
  {
   "cell_type": "code",
   "execution_count": null,
   "metadata": {
    "id": "agAaOHxWW1rC"
   },
   "outputs": [],
   "source": [
    "# 2.Load the text in labE4.txt to a variable text. \n",
    "#open file and create file object\n",
    "\n",
    "with open('LabE4.txt') as f:\n",
    "  text = f.read()"
   ]
  },
  {
   "cell_type": "code",
   "execution_count": null,
   "metadata": {
    "id": "d4NkvFInOuDw"
   },
   "outputs": [],
   "source": [
    "#following regular expressions are used (comments)\n",
    "# I have combined below regular expressions using | (meta character). whereever match will be found using regular expression it will replace that with blank.\n",
    "\"\"\"\n",
    "\n",
    "\"NOTE\" string                           : NOTE\n",
    "00:00:49.810 --> 00:00:52.582           :\\d{2}:\\d{2}:\\d{2}.\\d{3} --> \\d{2}:\\d{2}:\\d{2}.\\d{3}\n",
    "Confidence: 0.62458827231579            :[a-z]{1,}:\\s*\\d{1}.\\d{1,} \n",
    "duration:\"00:06:54\"                     :[a-z]{1,}:\\W\\d{2}:\\d{2}:\\d{2}\\W\n",
    "language:en-us                          :[a-z]{1,}:[a-z]{1,}-[a-z]{1,}\n",
    "\\n\\n                                    :\\s{2}\n",
    "3973772b-485a-4b33-8be2-f9f90b42089e    :\\w{1,}-\\w{1,}-\\w{1,}-\\w{1,}-\\w{1,}\\s{2}\n",
    "WEBVTT\\n\\n                              :WEBVTT\\s{1,}\n",
    "to remove \"?\"                           :\\?\n",
    "\n",
    "\"\"\""
   ]
  },
  {
   "cell_type": "code",
   "execution_count": null,
   "metadata": {
    "id": "F6DVBistRSf1"
   },
   "outputs": [],
   "source": [
    "# 3. Apply regular expression and clean the data.\n",
    "# I have defined pattern variable which is assinged to regular expression.\n",
    "\n",
    "pattern=\"NOTE|(\\d{2}:\\d{2}:\\d{2}.\\d{3} --> \\d{2}:\\d{2}:\\d{2}.\\d{3})|([a-z]{1,}:\\s*\\d{1}.\\d{1,})|([a-z]{1,}:\\W\\d{2}:\\d{2}:\\d{2}\\W)|([a-z]{1,}:[a-z]{1,}-[a-z]{1,})|(\\s{2})\"\n"
   ]
  },
  {
   "cell_type": "code",
   "execution_count": null,
   "metadata": {
    "colab": {
     "base_uri": "https://localhost:8080/",
     "height": 105
    },
    "id": "9Jd1H9p7rsDX",
    "outputId": "d82dfa46-e6f6-4755-90c0-fc4e07c6d20f"
   },
   "outputs": [
    {
     "data": {
      "application/vnd.google.colaboratory.intrinsic+json": {
       "type": "string"
      },
      "text/plain": [
       "\"WEBVTT    C76f86f8d-0f62-433a-a8d4-7b7088fc7070\\n\\nHello and welcome back. C3973772b-485a-4b33-8be2-f9f90b42089e\\n\\nIn the previous video we have seen C0a765adf-b5a9-4f04-9f63-27273a8b3814\\n\\nin jargon the key terms and so on. C86dbdc1d-dde4-4cd6-9a94-e413dc9b881f\\n\\nIn this video we are going to look C17a5e17d-3b29-4935-9d48-5477832db4a0\\n\\ninto NLP data versus NLP data. C7b39ea12-8d2d-402a-89ef-abb0b87839da\\n\\nWhat are the different categories Cfeacf40e-c827-4fd5-985e-5f0f2dd790f7\\n\\nof NLP data and the data itself? C9a807940-04bb-4a9d-aa3d-a941d40091a6\\n\\nThere are two categories which Cd6a912a5-fb2c-4728-a23a-631b695dbdb9\\n\\nis structured and unstructured, C60926f8e-c7b9-4933-a20c-bb27b42108be\\n\\nso we'll be looking into all Cafd90bbc-b291-4bc9-bbeb-160ccc9b0588\\n\\nthese topics in this meeting. C22117511-6cc2-4b51-ae71-43d8e67a8c57\\n\\nLet us see the data in a day. Cb65556b6-c292-4985-9122-fac06d54624d\\n\\nThere are a lot of data C25b2708b-4778-4abc-907f-cef9de29c288\\n\\nthat is generated in a day, Cb87ddb0e-a8b2-4984-8636-09835c18aae0\\n\\nso there are around 500 millions of reads, C4ca98e1c-00b5-4f9e-b648-4883e284d18b\\n\\n300 millions of text data, C1da906fe-bfd6-41eb-9ac1-36f4979bb17a\\n\\n400 gigabytes of video data and so on. Ce179db9b-4364-4377-aa60-026b519110f5\\n\\nSo all of which which is relevant C1b9fdf26-a6e6-4bec-83de-4ab0e5d0b392\\n\\nto natural language processing. Cdb2593af-5c8d-4a84-ba0d-a7dbc22b231d\\n\\nLet's see. What is data in LP? C302fd280-b966-4823-aff0-072c3e2b6721\\n\\nSo what is data? C7d36ffb1-7f06-45b4-a737-fb68002e4e30\\n\\nData that stores language data quality data. Ca145fb45-0bcf-4e4e-9b1a-fe9ba53afa62\\n\\nBasically there are two categories. Ce71764fc-47d0-4fbf-915d-240123397ba6\\n\\nOne is the textual data and the speech data. C502641ea-dd24-4a68-bff4-8789062d3566\\n\\nIn this course we will be only C0d081d65-6782-4ab4-b2d0-3ff7700328b4\\n\\nbuilding with textual data alone. Cbcf78d4a-04f3-4dd5-9a84-3a0a7b83d92e\\n\\nSo here is an example of a text C5809e762-bed1-476a-8fce-b22eb6f79bc6\\n\\ndata because there is some text C115ca948-25ea-4108-aed9-6fc87c44e368\\n\\nhere and you have the banking data. Cb717c710-7122-4cef-bd9a-3c94e043e814\\n\\nThere are a lot of columns. C968471b6-8359-4b9d-a0c1-2d80a3fa5bc3\\n\\nThere are a lot of words in C83105902-4fdf-4688-8e17-b3ee6b449206\\n\\neach of these columns, C59359ab1-9300-466d-bb7c-397faf8575e8\\n\\nso you can consider this to be a text data. Cb6bd3ef7-ee1c-4a8f-9298-60d06db3a70b\\n\\nEverything is organized OK. Ce4dc300d-c40a-4db6-82be-d1b4e173e9f1\\n\\nAnd let's see another example. Cd4f526be-1bf6-4392-82bc-0dace618d9c2\\n\\nSo here we have a news C1cfbe7f4-900e-43b1-a6dc-0b46601f0460\\n\\narticle on coronavirus so. C700332ca-a3d1-4dc2-b1bf-0445870f06c6\\n\\nWhen compared with the previous slide, C32c59134-13ba-4140-84af-fc82608e7d56\\n\\nwhich is the banking data, C0830b56f-057b-45ad-b57e-9091f6c76c1c\\n\\nwhat differences did you see? Cc7c8d26d-c337-41db-b4de-b4900f6b7b2e\\n\\nYes, well, it's not organized. C8db506ec-c164-402d-88cf-3e1d3d8a145d\\n\\nThere is no specific format. Ce617eed8-2632-4831-a0fa-aa306f63a130\\n\\nYou have just some heading Cf94c651d-9c82-4925-b587-ee282d428363\\n\\nand followed by some text, Cedbfc5d6-7f11-4764-961e-3e214417db30\\n\\nsome random text and so on. C08a24d7f-b02f-4246-935f-c60a512ea184\\n\\nSo you have a data which is organized and C3decb6c4-f57d-4096-a91b-5c1728a3436f\\n\\nyou have a data that is not organized. Cbbf61073-8f16-4521-b2ac-a1e84a8ea18f\\n\\nWhat about this? C388ce414-d920-4461-88d7-2097387b2ee2\\n\\nYes here also. C62eb6214-4fd2-48ea-a359-2c60f9b3b6ac\\n\\nEven though you don't see Cfa5f688c-2415-4799-9b28-5172db5c14a8\\n\\nany kind of organization, C1634cea7-1b28-46c3-82b6-5e2d9e3273d4\\n\\nbut you can have like this, C950773eb-7d67-4d16-a0f9-45d386e30e46\\n\\nis this has a special meaning C2a93c3fc-7049-4fb7-97a8-6ae820177885\\n\\nor hash tag and so on. C4ba4cae7-3afc-4ada-a061-4acabf539120\\n\\nSo this can also be considered as an Ca6f18113-30ca-4dd1-977a-ff700785d92f\\n\\nunstructured or unorganized data. C61dc8371-4038-4be9-9c08-f4df7634ecb6\\n\\nWhat about this? Cfa00b4c4-4211-4079-b249-af0261186819\\n\\nThis is the news classification data set, C32545ddd-ec3c-4fcd-b5fc-6b0c00b67076\\n\\nthough it seems to be a kind of organized, Cf57ea3bd-ade3-4e2c-ae05-faf64e128977\\n\\nbut you look into each of the. C2476dcab-c467-4beb-ac79-ce9fc09cc36b\\n\\nWho's in this column? C8bc67f05-b713-4b49-99dc-d39f86f0cb43\\n\\nYou find that they are all unorganized, C661c80f4-59b8-4f72-8774-2df24b02a6f0\\n\\nso these are all news. C5dafea20-e461-44e7-ac23-a3a5a546020f\\n\\nIs different news that are there C3d66c777-633b-4863-a1a7-def3a049d1fe\\n\\nand they categories. Cf89ca6de-9c76-48f8-96fa-d70ff1a3416c\\n\\nOK, so this is even though Cfed0ba05-2a9e-47f8-8fee-a90a1291a6df\\n\\nthis is a tabular data. Ccca137be-495e-4201-9144-ac2f6e070932\\n\\nThis is also unstructured data. C8aba07a1-c721-44b5-a1c2-c6e8241182c7\\n\\nSo. So we have two categories. C1e3f7613-55a0-400a-a621-f2ef4f24ce79\\n\\nNow. C4d2afa51-c510-4948-8ded-39d09a36b00d\\n\\nOne is the structured data and C90cd990f-dd4b-4499-aea6-9fea5f9c7b19\\n\\nthe other is unstructured data in C45fde9fe-d084-4dfc-a7e9-27edc6681f01\\n\\nstructured data fixed dimension, C1ac6a7bf-d69d-49e0-9ede-532869767072\\n\\njust as the banking data set that we saw, C6c7592ef-c122-4534-9765-9d40d5826b2e\\n\\neverything is organized usually in C7f4ea11e-080e-4f52-ae2a-16d92dc59a49\\n\\ntables or in a key value pair like Jason. C554e695a-1335-4435-ae12-3e3c0c3bbddb\\n\\nObject JSON representation and so on. C7e659e4d-189e-4f13-833b-06e806bebdba\\n\\nAnd it is simple to process because we C1f6a8303-5e42-4368-87d2-bb9fe69e01bc\\n\\nknow well in hand what are we different? C34d537e5-a000-4f56-9921-21f7f7842caf\\n\\nFrozen columns that are there C09db619b-202c-413f-8196-5a89009fc232\\n\\nin the daytime so. C259e7980-b647-469f-8a05-9410145886da\\n\\nIt is processed directly and there is no C63658c32-385b-47da-b948-6ecfd5621296\\n\\nneed for intermediate representations. Caeee5cbf-dc90-429e-8306-7b3f7e451896\\n\\nBrothers in unstructured data. C56d22dfc-e30b-438c-932b-6337292971c1\\n\\nThere is no specific dimension, C4370d2da-9621-47c1-86a0-acd207367b78\\n\\nso it's very hard and it is C5d891669-2266-41bc-853c-b28032d1147b\\n\\nnot organized Cab34321f-2e7a-4e8a-94bd-b23b13f7d3cd\\n\\nand also there is no specific order C4dea8c21-8e97-47fe-b2c2-ac5d38846448\\n\\nthus making processing very complex C8330af70-0caa-4b09-8813-2ad179ed243d\\n\\nand it needs lot of intermediate C4bf75d11-4e24-461b-9d52-431e667b58b0\\n\\nrepresentation which we will have to study. C3a4d0790-1dca-43e5-8823-860dd9842c9e\\n\\nHow to learn. Converting the unstructured C23f6d6a4-52ac-4162-8a44-346e937430b4\\n\\ninto some kind of structured format. Ccd494074-5ca7-43bf-bc4c-643f031d55fb\\n\\nSo here is a task for you. C2fa206cf-a738-4508-8ffa-03c32bdc5ac6\\n\\nThere are there are. C1381c8b0-04bd-4c19-89ca-ddf97ae97197\\n\\nThese are the resources. C935ac583-723e-4e7e-bc56-67495b13c2a8\\n\\nI'll text data or some kind of Cb3f2f1b4-de98-4c24-8131-53c52caf03ef\\n\\ndata so you have to think you Cb79aceb7-b60f-4790-ac94-0cf2597b28b0\\n\\nhave to just categorize them, Cc5d2d7b5-104d-4c8f-8e1d-70e40a1019f9\\n\\nwhether structure or unstructured. C848b09f6-16a9-4b2f-baa2-3bc368339db3\\n\\nYes, so we have news article. Cf0468899-4fe0-4ff2-a6c9-c2cc6a0efefd\\n\\nYes, this is unstructured. C41687189-f918-4202-8935-807e844abf93\\n\\nYou have visuals from the CCTV. C180ecc10-9339-4933-b0df-93130a4035cf\\n\\nYes it is also unstructured. C50f9413d-cf80-48c5-9245-492083e53e58\\n\\nWhat about the data here? Cb2354d1f-79d5-4049-aa56-b12f2f8c4767\\n\\nYes, there is some format, C53a8bb04-4da9-4402-9e5a-5274c49a3e48\\n\\nso it can be considered as. Cd91f2a4a-00d8-4dff-8f83-49652e545aec\\n\\nA structured data? C1b381481-4d7b-4a89-b268-95584e602a3e\\n\\nWhat about this? C2dce98ae-96ad-4f54-a657-0e67b6a64ea7\\n\\nThis is a visual or this is the audio, Ce8896e90-77f9-44d0-869a-207099f40f3d\\n\\nso it is also unstructured. C3e2c0555-3e5e-479d-980d-950cbb32bfa6\\n\\nWhat about this being Jason object? Ccf69c8be-f295-4005-9018-91d27d51fa36\\n\\nHe was a Barracuda is not just so they are C3d1f6062-aa9c-436d-9d0a-9b4fee39d74b\\n\\nin key value pairs or disease structure data. C8780cdb8-7579-4b4a-81e7-ae14e9a2afdc\\n\\nWhat about meets and the post C4d24b5f7-9071-42ab-b0ef-52f6abec5494\\n\\nand the social media. Yes, C60cd1b0e-ea18-498b-b6bc-e7cc91ba5580\\n\\nyou can write anything and the length can be. Cf8f622a7-f6e1-4b08-b31a-1aba3da74782\\n\\nThere is no fixed dimension so this C56c4d250-d1fd-400b-bb78-e143c2961831\\n\\nis also what about this web page? C3302460d-9c82-4d32-83c0-af7c81fc0c4a\\n\\nYes, C95af6f33-1043-4e0e-848b-7ced81fa4743\\n\\nso webpage where there is some Cc10a064a-96bd-43a0-bd0b-04ce6a2fa94b\\n\\norganization without HTML tag followed Cf4a6ea10-0955-46ed-bdcc-7991c01431a2\\n\\nby the body tag or baby Dev Dag. Cb080d65b-1644-4d1b-b1e2-d06cb9e9797e\\n\\nAnd maybe there is some format, C4b9263a9-a4fb-4a9d-9657-b0499bf36df1\\n\\nbut if you go into each of the tags C48234254-85c6-4ede-87ac-5cbafd7d5938\\n\\nyou can find lot of unstructured data. Cdbeb5bee-9ca2-47cf-a41d-034506936a86\\n\\nSo you can consider this to be a single C749078a1-8bca-4127-8554-f831ed92db4b\\n\\nstructure because overall it is structured. C42b2e1c0-1eaf-431d-9ae6-32f85a3f1492\\n\\nBut when you go into it there you C39fceae5-2ff9-4f82-9f78-cd69b59498ff\\n\\nfind lot of unstructured ones. C37e337de-9bb7-4eac-bdb3-c8d27ac4f6e5\\n\\nSo when you see the comparison of Ce7ea4853-f54e-40b6-8c23-f08a2da8e5ba\\n\\nthe structured versus unstructured, Ce24aa06f-ecce-4db1-854c-b7b2cda62193\\n\\nyou can see the explosion C56641c0f-6c62-4862-bd78-44e7a7a013b9\\n\\nof unstructured a lot. C42f23a2b-6a20-4d74-a9c4-6de19fc485c2\\n\\nYou can see there are lot of data Cd40321df-c2f2-4ba2-ab45-0ac5a8481884\\n\\nthat is being generated every year Ccf208660-321f-4481-baeb-4875997e482d\\n\\nand the ratio in which structured C1f7c26d2-38af-4c8a-92e0-3eeb4a08dd6d\\n\\nand unstructured is very much. Cf13ba303-f381-4040-af08-386f4bed76f3\\n\\nSo you have lot of unstructured data C22b71244-f71e-44bb-9b01-0edd18f3339e\\n\\nwhen compared to structured data. C2665d8af-d3ba-4d39-a7e9-3a072dce5e31\\n\\nSo a lot of processing and a lot C97e39228-dccd-453f-a5df-7024cbab811d\\n\\nof work has to be done when we're Cd3dbfa55-b046-476e-9360-991661aea22a\\n\\ndealing with unstructured data. C136dc062-004f-4603-bc79-4040f4841616\\n\\nSo in this video we have seen what is C6b4a6a65-2996-48bd-bcaa-0623b97fe588\\n\\ndata and that we'll be focusing only Cac0ccfd8-21b6-4ae0-a807-0341e10a276d\\n\\non the text data and most of the text data. C1ac5f76f-a222-4a1f-ba71-7e8aa9956ea1\\n\\nYou can have their unstructured, Cbcf25af1-97da-40d4-850f-a57245d42f26\\n\\nso unstructured means there C7fb43394-c0b1-4ecb-b2cd-a768bc6d8236\\n\\nis no specific formula. Cd3b4d931-e860-47f6-b6fe-ef0c292ebf41\\n\\nWe can take the example of the news article, C42c55691-d583-4724-89ed-b3e93f8dbe33\\n\\nso most of the data is unstructured Ca756795d-3fd0-41a6-a613-ceecb323e269\\n\\nwhen compared with the structured Cbe588b40-547e-4351-867a-f467ad25c665\\n\\ndata and next we will start with Cf44a1144-b199-49f9-ae1d-856908a0cabc\\n\\nanother pipeline and energy. C05cd1d49-6294-455f-ab52-9c42908daf61\\n\\nI put this thank you.\""
      ]
     },
     "execution_count": 114,
     "metadata": {},
     "output_type": "execute_result"
    }
   ],
   "source": [
    "#re.sub(pattern,replacetext,text) function is used to clean the data.\n",
    "\n",
    "step_1= re.sub(pattern,'',text)\n",
    "step_1"
   ]
  },
  {
   "cell_type": "code",
   "execution_count": null,
   "metadata": {
    "id": "Yk5CvgYo7usF"
   },
   "outputs": [],
   "source": [
    "# pattern2 regular expressions are applied on the text (varibale step_1) to clean remaining data\n",
    "\n",
    "pattern2=\"(\\w{1,}-\\w{1,}-\\w{1,}-\\w{1,}-\\w{1,}\\s{2})|(WEBVTT\\s{1,})|(\\?)\""
   ]
  },
  {
   "cell_type": "code",
   "execution_count": null,
   "metadata": {
    "colab": {
     "base_uri": "https://localhost:8080/",
     "height": 400
    },
    "id": "N3TgZhmy7llv",
    "outputId": "df636af5-6b49-43c9-cffb-22b41f00adb2"
   },
   "outputs": [
    {
     "data": {
      "application/vnd.google.colaboratory.intrinsic+json": {
       "type": "string"
      },
      "text/plain": [
       "\"Hello and welcome back. In the previous video we have seen in jargon the key terms and so on. In this video we are going to look into NLP data versus NLP data. What are the different categories of NLP data and the data itself There are two categories which is structured and unstructured, so we'll be looking into all these topics in this meeting. Let us see the data in a day. There are a lot of data that is generated in a day, so there are around 500 millions of reads, 300 millions of text data, 400 gigabytes of video data and so on. So all of which which is relevant to natural language processing. Let's see. What is data in LP So what is data Data that stores language data quality data. Basically there are two categories. One is the textual data and the speech data. In this course we will be only building with textual data alone. So here is an example of a text data because there is some text here and you have the banking data. There are a lot of columns. There are a lot of words in each of these columns, so you can consider this to be a text data. Everything is organized OK. And let's see another example. So here we have a news article on coronavirus so. When compared with the previous slide, which is the banking data, what differences did you see Yes, well, it's not organized. There is no specific format. You have just some heading and followed by some text, some random text and so on. So you have a data which is organized and you have a data that is not organized. What about this Yes here also. Even though you don't see any kind of organization, but you can have like this, is this has a special meaning or hash tag and so on. So this can also be considered as an unstructured or unorganized data. What about this This is the news classification data set, though it seems to be a kind of organized, but you look into each of the. Who's in this column You find that they are all unorganized, so these are all news. Is different news that are there and they categories. OK, so this is even though this is a tabular data. This is also unstructured data. So. So we have two categories. Now. One is the structured data and the other is unstructured data in structured data fixed dimension, just as the banking data set that we saw, everything is organized usually in tables or in a key value pair like Jason. Object JSON representation and so on. And it is simple to process because we know well in hand what are we different Frozen columns that are there in the daytime so. It is processed directly and there is no need for intermediate representations. Brothers in unstructured data. There is no specific dimension, so it's very hard and it is not organized and also there is no specific order thus making processing very complex and it needs lot of intermediate representation which we will have to study. How to learn. Converting the unstructured into some kind of structured format. So here is a task for you. There are there are. These are the resources. I'll text data or some kind of data so you have to think you have to just categorize them, whether structure or unstructured. Yes, so we have news article. Yes, this is unstructured. You have visuals from the CCTV. Yes it is also unstructured. What about the data here Yes, there is some format, so it can be considered as. A structured data What about this This is a visual or this is the audio, so it is also unstructured. What about this being Jason object He was a Barracuda is not just so they are in key value pairs or disease structure data. What about meets and the post and the social media. Yes, you can write anything and the length can be. There is no fixed dimension so this is also what about this web page Yes, so webpage where there is some organization without HTML tag followed by the body tag or baby Dev Dag. And maybe there is some format, but if you go into each of the tags you can find lot of unstructured data. So you can consider this to be a single structure because overall it is structured. But when you go into it there you find lot of unstructured ones. So when you see the comparison of the structured versus unstructured, you can see the explosion of unstructured a lot. You can see there are lot of data that is being generated every year and the ratio in which structured and unstructured is very much. So you have lot of unstructured data when compared to structured data. So a lot of processing and a lot of work has to be done when we're dealing with unstructured data. So in this video we have seen what is data and that we'll be focusing only on the text data and most of the text data. You can have their unstructured, so unstructured means there is no specific formula. We can take the example of the news article, so most of the data is unstructured when compared with the structured data and next we will start with another pipeline and energy. I put this thank you.\""
      ]
     },
     "execution_count": 116,
     "metadata": {},
     "output_type": "execute_result"
    }
   ],
   "source": [
    "#re.sub(pattern,replacetext,text) function is used to get final output.\n",
    "\n",
    "step2=re.sub(pattern2,'',step_1)\n",
    "step2"
   ]
  },
  {
   "cell_type": "code",
   "execution_count": null,
   "metadata": {
    "colab": {
     "base_uri": "https://localhost:8080/"
    },
    "id": "vjbQvKQCj9N9",
    "outputId": "f2fb9b4a-fc53-45b2-95be-d988bab57bd3"
   },
   "outputs": [
    {
     "name": "stdout",
     "output_type": "stream",
     "text": [
      "match\n"
     ]
    }
   ],
   "source": [
    "# 4.Find the regular expressions for :\n",
    "# re.fullmatch(pattern,text) method is used to check complete pattern in the text\n",
    "\n",
    "# 1.Date of form: “MM-DD-YYYY”\n",
    "\n",
    "s_text=\"11-25-2022\"\n",
    "pattern=\"\\d{2}-\\d{2}-\\d{4}\"\n",
    "results = 'match' if re.fullmatch(pattern, s_text) else 'no match'\n",
    "print(results)"
   ]
  },
  {
   "cell_type": "code",
   "execution_count": null,
   "metadata": {
    "colab": {
     "base_uri": "https://localhost:8080/"
    },
    "id": "pvACI4bEnE2E",
    "outputId": "f046df48-b1d0-4da7-a679-2f21f88245d6"
   },
   "outputs": [
    {
     "name": "stdout",
     "output_type": "stream",
     "text": [
      "match\n"
     ]
    }
   ],
   "source": [
    "# 2.Time with format: “HH:MM:SS”\n",
    "\n",
    "s_text=\"09:59:25\"\n",
    "pattern=\"(?:[01]\\d|2[0123]):(?:[012345]\\d):(?:[012345]\\d)\"\n",
    "results = 'match' if re.fullmatch(pattern, s_text) else 'no match'\n",
    "print(results)\n"
   ]
  },
  {
   "cell_type": "code",
   "execution_count": null,
   "metadata": {
    "colab": {
     "base_uri": "https://localhost:8080/"
    },
    "id": "TSOYkcpSpeeB",
    "outputId": "bb62848b-b961-4390-c81f-85d32ec1801e"
   },
   "outputs": [
    {
     "name": "stdout",
     "output_type": "stream",
     "text": [
      "match\n"
     ]
    }
   ],
   "source": [
    "# 3. Time with format: “HH:MM:SS AM” or “HH:MM:SS PM”\n",
    "\n",
    "s_text=\"09:59:25 PM\"\n",
    "pattern=\"(?:[01]\\d|2[0123]):(?:[012345]\\d):(?:[012345]\\d) (AM|PM)\"\n",
    "results = 'match' if re.fullmatch(pattern, s_text) else 'no match'\n",
    "print(results)"
   ]
  },
  {
   "cell_type": "code",
   "execution_count": null,
   "metadata": {
    "colab": {
     "base_uri": "https://localhost:8080/"
    },
    "id": "sBeNZ_SOapxw",
    "outputId": "5c47619f-da6b-4aaf-c4a0-ea15a4bf2938"
   },
   "outputs": [
    {
     "name": "stdout",
     "output_type": "stream",
     "text": [
      "match\n"
     ]
    }
   ],
   "source": [
    "# 4.Full Name: “Mr. ………” or “Ms. ……” or “Mrs. …….”\n",
    "\n",
    "s_text=\"Mr.Rafi Karanam\"\n",
    "pattern=\"(Mr|Ms|Mrs).([a-zA-Z]{1,})\\s([a-zA-Z]{1,})\\s?([a-zA-Z]{1,}?)\"\n",
    "results = 'match' if re.fullmatch(pattern, s_text) else 'no match'\n",
    "print(results)"
   ]
  },
  {
   "cell_type": "code",
   "execution_count": null,
   "metadata": {
    "colab": {
     "base_uri": "https://localhost:8080/"
    },
    "id": "4ukfjr2rcGud",
    "outputId": "f57c5122-a95d-470d-d304-0ef6e7cc4446"
   },
   "outputs": [
    {
     "name": "stdout",
     "output_type": "stream",
     "text": [
      "match\n"
     ]
    }
   ],
   "source": [
    "# 5. Enrollment number for Amrita University \n",
    "# AA.SC.P2MCA2207442\n",
    "\n",
    "s_text=\"AA.SC.P2MCA2207411\"\n",
    "pattern=\"[A-Z]{2}.[A-Z]{2}.[A-Z]\\d[A-Z]{3}\\d{7}\"\n",
    "results = 'match' if re.fullmatch(pattern, s_text) else 'no match'\n",
    "print(results)\n"
   ]
  },
  {
   "cell_type": "code",
   "execution_count": null,
   "metadata": {
    "colab": {
     "base_uri": "https://localhost:8080/"
    },
    "id": "zuejl5Lsp6WC",
    "outputId": "48ad6994-e396-43e5-db28-053141c95a82"
   },
   "outputs": [
    {
     "name": "stdout",
     "output_type": "stream",
     "text": [
      "match\n"
     ]
    }
   ],
   "source": [
    "# 6. Indian Landline Number : eg :- 0476-2802017 or 022-12345678\n",
    "\n",
    "s_text=\"0476-2802017\"\n",
    "pattern=\"\\d{3,4}-\\d{7,8}\"\n",
    "results = 'match' if re.fullmatch(pattern, s_text) else 'no match'\n",
    "print(results)"
   ]
  },
  {
   "cell_type": "code",
   "execution_count": null,
   "metadata": {
    "colab": {
     "base_uri": "https://localhost:8080/"
    },
    "id": "_DPW_FGQsW2c",
    "outputId": "5577ce31-1c7a-4177-981d-c4fc7d32f400"
   },
   "outputs": [
    {
     "name": "stdout",
     "output_type": "stream",
     "text": [
      "match\n"
     ]
    }
   ],
   "source": [
    "# 7.Any Mobile Numbers: +91-1234567890, +12-3456789000\n",
    "\n",
    "s_text=\"+91-1234567890\"\n",
    "pattern=\"\\+\\d{2}-\\d{10}\"\n",
    "results = 'match' if re.fullmatch(pattern, s_text) else 'no match'\n",
    "print(results)"
   ]
  },
  {
   "cell_type": "code",
   "execution_count": null,
   "metadata": {
    "colab": {
     "base_uri": "https://localhost:8080/"
    },
    "id": "cHrfMVlpuEZS",
    "outputId": "7c0881a7-fc91-4ba4-9a8a-1145bd94910c"
   },
   "outputs": [
    {
     "name": "stdout",
     "output_type": "stream",
     "text": [
      "match\n"
     ]
    }
   ],
   "source": [
    "# 8.Indian Postal Pin code: 690 525\n",
    "\n",
    "s_text=\"690 525\"\n",
    "pattern=\"^[1-9]{1}[0-9]{2}\\s{0,1}[0-9]{3}$\"\n",
    "results = 'match' if re.fullmatch(pattern, s_text) else 'no match'\n",
    "print(results)"
   ]
  },
  {
   "cell_type": "code",
   "execution_count": null,
   "metadata": {
    "colab": {
     "base_uri": "https://localhost:8080/"
    },
    "id": "_8r-rocOjunb",
    "outputId": "87a99780-d6dc-4880-bafa-d3a519caa792"
   },
   "outputs": [
    {
     "data": {
      "text/plain": [
       "['What', 'a', 'lovely', 'view', 'you', 'have', 'here', \"That's\", 'fantastic']"
      ]
     },
     "execution_count": 126,
     "metadata": {},
     "output_type": "execute_result"
    }
   ],
   "source": [
    "# 9.Tokenize a sentence (?!.)\n",
    "\n",
    "from nltk.tokenize import RegexpTokenizer\n",
    "tokenizer = RegexpTokenizer(\"[\\w']+\")\n",
    "tokenizer.tokenize(\"What a lovely view you have here! That's fantastic!\")\n"
   ]
  },
  {
   "cell_type": "code",
   "execution_count": null,
   "metadata": {
    "colab": {
     "base_uri": "https://localhost:8080/"
    },
    "id": "5a0fuNiVhzgK",
    "outputId": "e4d47296-f1c7-4d02-ecea-e57bb40b2784"
   },
   "outputs": [
    {
     "name": "stdout",
     "output_type": "stream",
     "text": [
      "['1', '2', '3', '4']\n"
     ]
    }
   ],
   "source": [
    "# 10. finding any 4 digit in a text.\n",
    "\n",
    "s_text=\"Abcd1h23h4h\"\n",
    "pattern=\"\\d\"\n",
    "results = re.findall(pattern,s_text)\n",
    "print(results)"
   ]
  },
  {
   "cell_type": "code",
   "execution_count": null,
   "metadata": {
    "colab": {
     "base_uri": "https://localhost:8080/"
    },
    "id": "O6jRgBk6xf9Q",
    "outputId": "16e5f730-090c-4664-a2d9-43896c089f48"
   },
   "outputs": [
    {
     "name": "stdout",
     "output_type": "stream",
     "text": [
      "match\n"
     ]
    }
   ],
   "source": [
    "# 11. Card Number :(0000-0000-0000-0000)\n",
    "\n",
    "s_text=\"0000-0000-0000-0000\"\n",
    "pattern=\"^[0-9]{4}-[0-9]{4}-[0-9]{4}-[0-9]{4}$\"\n",
    "results = 'match' if re.fullmatch(pattern, s_text) else 'no match'\n",
    "print(results)"
   ]
  },
  {
   "cell_type": "code",
   "execution_count": null,
   "metadata": {
    "colab": {
     "base_uri": "https://localhost:8080/"
    },
    "id": "lTSOaP6JywUH",
    "outputId": "ea047940-cae3-4f6c-fe61-449c90508c33"
   },
   "outputs": [
    {
     "name": "stdout",
     "output_type": "stream",
     "text": [
      "match\n"
     ]
    }
   ],
   "source": [
    "# 12. Twitter User : (@username)\n",
    "\n",
    "s_text=\"@rafi\"\n",
    "pattern=\"@[A-Za-z][\\w-]+\"\n",
    "results = 'match' if re.fullmatch(pattern, s_text) else 'no match'\n",
    "print(results)"
   ]
  },
  {
   "cell_type": "code",
   "execution_count": null,
   "metadata": {
    "colab": {
     "base_uri": "https://localhost:8080/"
    },
    "id": "UwzIlTO1zobp",
    "outputId": "9ee66a6a-6b75-4313-c6bc-18991ebeea93"
   },
   "outputs": [
    {
     "name": "stdout",
     "output_type": "stream",
     "text": [
      "match\n"
     ]
    }
   ],
   "source": [
    "# 12. IP Address\n",
    "\n",
    "s_text=\"192.168.0.155\"\n",
    "pattern=\"^((25[0-5]|2[0-4][0-9]|1[0-9][0-9]|[1-9]?[0-9])\\.){3}(25[0-5]|2[0-4][0-9]|1[0-9][0-9]|[1-9]?[0-9])$\"\n",
    "results = 'match' if re.fullmatch(pattern, s_text) else 'no match'\n",
    "print(results)"
   ]
  },
  {
   "cell_type": "code",
   "execution_count": null,
   "metadata": {
    "colab": {
     "base_uri": "https://localhost:8080/"
    },
    "id": "y7VMYw6d0maw",
    "outputId": "80f5902f-a96a-4f44-cb2a-3bbd1e977615"
   },
   "outputs": [
    {
     "name": "stdout",
     "output_type": "stream",
     "text": [
      "match\n"
     ]
    }
   ],
   "source": [
    "# 13. IPv6 Address : eg - 2001:cdba:0000:0000:0000:0000:3257:9652\n",
    "\n",
    "s_text=\"2001:cdba:0000:0000:0000:0000:3257:9652\"\n",
    "pattern='''(([0-9a-fA-F]{1,4}:){7,7}[0-9a-fA-F]{1,4}|\n",
    "        ([0-9a-fA-F]{1,4}:){1,7}:|([0-9a-fA-F]{1,4}:)\n",
    "        {1,6}:[0-9a-fA-F]{1,4}|([0-9a-fA-F]{1,4}:){1\n",
    "        ,5}(:[0-9a-fA-F]{1,4}){1,2}|([0-9a-fA-F]{1,4}\n",
    "        :){1,4}(:[0-9a-fA-F]{1,4}){1,3}|([0-9a-fA-F]{\n",
    "        1,4}:){1,3}(:[0-9a-fA-F]{1,4}){1,4}|([0-9a-fA\n",
    "        -F]{1,4}:){1,2}(:[0-9a-fA-F]{1,4}){1,5}|[0-9a\n",
    "        -fA-F]{1,4}:((:[0-9a-fA-F]{1,4}){1,6})|:((:[0\n",
    "        -9a-fA-F]{1,4}){1,7}|:)|fe80:(:[0-9a-fA-F]{0,\n",
    "        4}){0,4}%[0-9a-zA-Z]{1,}|::(ffff(:0{1,4}){0,1}\n",
    "        :){0,1}((25[0-5]|(2[0-4]|1{0,1}[0-9]){0,1}[0-9\n",
    "        ])\\.){3,3}(25[0-5]|(2[0-4]|1{0,1}[0-9]){0,1}[0\n",
    "        -9])|([0-9a-fA-F]{1,4}:){1,4}:((25[0-5]|(2[0-4]\n",
    "        |1{0,1}[0-9]){0,1}[0-9])\\.){3,3}(25[0-5]|(2[0-4]\n",
    "        |1{0,1}[0-9]){0,1}[0-9]))'''\n",
    "results = 'match' if re.fullmatch(pattern, s_text) else 'no match'\n",
    "print(results)"
   ]
  }
 ],
 "metadata": {
  "colab": {
   "provenance": []
  },
  "kernelspec": {
   "display_name": "Python 3 (ipykernel)",
   "language": "python",
   "name": "python3"
  },
  "language_info": {
   "codemirror_mode": {
    "name": "ipython",
    "version": 3
   },
   "file_extension": ".py",
   "mimetype": "text/x-python",
   "name": "python",
   "nbconvert_exporter": "python",
   "pygments_lexer": "ipython3",
   "version": "3.9.7"
  }
 },
 "nbformat": 4,
 "nbformat_minor": 1
}
